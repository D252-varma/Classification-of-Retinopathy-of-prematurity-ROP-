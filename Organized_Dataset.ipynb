{
 "cells": [
  {
   "cell_type": "code",
   "execution_count": 6,
   "id": "22f6c2b3-7e89-4ecc-bd0d-416763424098",
   "metadata": {},
   "outputs": [
    {
     "name": "stdout",
     "output_type": "stream",
     "text": [
      "Dataset reorganized into: Downloads/archive/Organized_dataset\n"
     ]
    }
   ],
   "source": [
    "import os\n",
    "import shutil\n",
    "import pandas as pd\n",
    "\n",
    "# ---- User paths ----\n",
    "metadata_path = \"Downloads/archive/infant_retinal_database_info.xlsx\"\n",
    "image_dir = \"Downloads/archive/images_stack_without_captions/images_stack_without_captions\"\n",
    "out_dir = \"Downloads/archive/Organized_dataset\"\n",
    "\n",
    "# ---- Step 1: Load metadata ----\n",
    "metadata = pd.read_excel(metadata_path)\n",
    "metadata = metadata.rename(columns={\n",
    "    \"ID\": \"PatientID\",\n",
    "    \"DIAGNOSIS CODE (DG)\": \"Diagnosis\"\n",
    "})\n",
    "\n",
    "# ---- Step 2: Map patient ID to stage label ----\n",
    "def label_rop_stage(dg):\n",
    "    if dg == 0:\n",
    "        return 'No_ROP'\n",
    "    elif dg in [1, 2]:\n",
    "        return 'Mild_ROP'\n",
    "    else:\n",
    "        return 'Severe_ROP'\n",
    "# Use the median diagnosis per patient\n",
    "patient_stage = metadata.groupby(\"PatientID\")[\"Diagnosis\"].median().apply(label_rop_stage).to_dict()\n",
    "\n",
    "# ---- Step 3: Prepare output folders ----\n",
    "class_names = ['No_ROP', 'Mild_ROP', 'Severe_ROP']\n",
    "for cls in class_names:\n",
    "    os.makedirs(os.path.join(out_dir, cls), exist_ok=True)\n",
    "\n",
    "# ---- Step 4: Classify and copy images ----\n",
    "def extract_patient_id(filename):\n",
    "    # Extract patient ID (\"001\" from e.g., 001_F_GA41_BW2905_...)\n",
    "    part = filename.split(\"_\")[0]\n",
    "    return int(part) if part.isdigit() else None\n",
    "\n",
    "all_images = [f for f in os.listdir(image_dir) if f.endswith('.jpg')]\n",
    "\n",
    "for img in all_images:\n",
    "    pid = extract_patient_id(img)\n",
    "    if pid is not None and pid in patient_stage:\n",
    "        stage = patient_stage[pid]\n",
    "        src = os.path.join(image_dir, img)\n",
    "        dst = os.path.join(out_dir, stage, img)\n",
    "        if not os.path.exists(dst):\n",
    "            shutil.copy2(src, dst)\n",
    "\n",
    "print(\"Dataset reorganized into:\", out_dir)\n"
   ]
  },
  {
   "cell_type": "code",
   "execution_count": null,
   "id": "6113849f-e648-4f92-9842-fa27cbf12bd4",
   "metadata": {},
   "outputs": [],
   "source": []
  }
 ],
 "metadata": {
  "kernelspec": {
   "display_name": "Python 3 (ipykernel)",
   "language": "python",
   "name": "python3"
  },
  "language_info": {
   "codemirror_mode": {
    "name": "ipython",
    "version": 3
   },
   "file_extension": ".py",
   "mimetype": "text/x-python",
   "name": "python",
   "nbconvert_exporter": "python",
   "pygments_lexer": "ipython3",
   "version": "3.12.4"
  }
 },
 "nbformat": 4,
 "nbformat_minor": 5
}
